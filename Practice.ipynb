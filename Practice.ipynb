{
  "nbformat": 4,
  "nbformat_minor": 0,
  "metadata": {
    "colab": {
      "provenance": [],
      "mount_file_id": "12FpwfBmTVo5Z_sxPUhy8tHCt1a4RF0Tg",
      "authorship_tag": "ABX9TyNcbz/NwmD6X8KPYm1XH9vd",
      "include_colab_link": true
    },
    "kernelspec": {
      "name": "python3",
      "display_name": "Python 3"
    },
    "language_info": {
      "name": "python"
    }
  },
  "cells": [
    {
      "cell_type": "markdown",
      "metadata": {
        "id": "view-in-github",
        "colab_type": "text"
      },
      "source": [
        "<a href=\"https://colab.research.google.com/github/HanzlaAlvi/Machine-Learning/blob/Tasks/Practice.ipynb\" target=\"_parent\"><img src=\"https://colab.research.google.com/assets/colab-badge.svg\" alt=\"Open In Colab\"/></a>"
      ]
    },
    {
      "cell_type": "code",
      "source": [
        "from google.colab import drive\n",
        "drive.mount('/content/drive')"
      ],
      "metadata": {
        "id": "OoppOUAO_iCa"
      },
      "execution_count": null,
      "outputs": []
    },
    {
      "cell_type": "code",
      "source": [
        "print(\"hello world\")"
      ],
      "metadata": {
        "colab": {
          "base_uri": "https://localhost:8080/"
        },
        "id": "p7vmpMGk_ra9",
        "outputId": "e6b62103-94f2-4f25-ce3e-6093b055aa24"
      },
      "execution_count": null,
      "outputs": [
        {
          "output_type": "stream",
          "name": "stdout",
          "text": [
            "hello world\n"
          ]
        }
      ]
    },
    {
      "cell_type": "code",
      "source": [
        "#del list\n",
        "number = list(str(121))\n",
        "print(number)"
      ],
      "metadata": {
        "colab": {
          "base_uri": "https://localhost:8080/"
        },
        "id": "WqSsBLa3l8_D",
        "outputId": "88395ca8-3a79-4fad-9cb7-1bc7c70b8cec"
      },
      "execution_count": null,
      "outputs": [
        {
          "output_type": "stream",
          "name": "stdout",
          "text": [
            "['1', '2', '1']\n"
          ]
        }
      ]
    },
    {
      "cell_type": "code",
      "source": [
        "def myfunction():\n",
        "  print(\"hello world\")\n",
        "myfunction()"
      ],
      "metadata": {
        "colab": {
          "base_uri": "https://localhost:8080/"
        },
        "id": "YXKzdf3vAMjj",
        "outputId": "2985f793-c9e4-4202-d6af-3db085dbd0d5"
      },
      "execution_count": null,
      "outputs": [
        {
          "output_type": "stream",
          "name": "stdout",
          "text": [
            "hello world\n"
          ]
        }
      ]
    },
    {
      "cell_type": "code",
      "source": [
        "def myfunction(*han):\n",
        "  print(han[1])\n",
        "myfunction(\"Hanzla\",\"Alvi\",18)"
      ],
      "metadata": {
        "colab": {
          "base_uri": "https://localhost:8080/"
        },
        "id": "yXGbvarvAshe",
        "outputId": "677ba0d8-dbbd-4105-fe45-93daf34662cb"
      },
      "execution_count": null,
      "outputs": [
        {
          "output_type": "stream",
          "name": "stdout",
          "text": [
            "Alvi\n"
          ]
        }
      ]
    },
    {
      "cell_type": "code",
      "source": [
        "weight = float(input(\"Weight: \"))\n",
        "unit = input (\"(K)g or (L)bs : \")\n",
        "if unit == ( \"k\" or \"K\"):\n",
        "  f = weight / 0.45359237\n",
        "  print(\"Weight in (L)bs : \",f )\n",
        "elif unit == (\"l\" or \"L\"):\n",
        "  f = weight * 0.45359237\n",
        "  print(\"Weight in (K)g : \",f )\n"
      ],
      "metadata": {
        "colab": {
          "base_uri": "https://localhost:8080/"
        },
        "id": "PuzPYB5Dmo0U",
        "outputId": "43529ae0-9b00-441d-dfad-64545b0010fd"
      },
      "execution_count": null,
      "outputs": [
        {
          "output_type": "stream",
          "name": "stdout",
          "text": [
            "Weight: 170\n",
            "(K)g or (L)bs : l\n",
            "Weight in (K)g :  77.1107029\n"
          ]
        }
      ]
    },
    {
      "cell_type": "code",
      "source": [
        "weight = float(input(\"Weight: \"))\n",
        "unit = input (\"(K)g or (L)bs : \")\n",
        "\n",
        "if unit.upper() == \"K\":\n",
        "  f = weight / 0.45359237\n",
        "  print(\"Weight in (L)bs : \"+ str(f) )\n",
        "\n",
        "else:\n",
        "  f = weight * 0.45359237\n",
        "  print(\"Weight in (K)g : \"+str(f) )\n"
      ],
      "metadata": {
        "colab": {
          "base_uri": "https://localhost:8080/"
        },
        "id": "clMxTkPJr_jz",
        "outputId": "60904333-a9e0-45e0-e2bc-b2b41a452cc1"
      },
      "execution_count": null,
      "outputs": [
        {
          "output_type": "stream",
          "name": "stdout",
          "text": [
            "Weight: 170\n",
            "(K)g or (L)bs : l\n",
            "Weight in (K)g : 77.1107029\n"
          ]
        }
      ]
    },
    {
      "cell_type": "code",
      "source": [
        "n1 = float(input(\"Enter 1st integer: \"))\n",
        "n2 = float(input(\"Enter 2nd integer: \"))\n",
        "\n",
        "# without using if the basic calculator\n",
        "\n",
        "print(\"Sum ➕: \", n1 + n2)\n",
        "print(\"subraction ➖: \", n1 - n2)\n",
        "print(\"multiply ✖ : \", n1 * n2)\n",
        "print(\"Float division ➗ : \", n1 / n2) #float division\n",
        "print(\"Integer division ➗ : \", n1 // n2) #integer division\n",
        "print(\"power : \", n1 ** n2)\n",
        "\n"
      ],
      "metadata": {
        "colab": {
          "base_uri": "https://localhost:8080/"
        },
        "id": "nxbp_csYslNx",
        "outputId": "01def303-689a-4d00-f315-a856ef25b84c"
      },
      "execution_count": null,
      "outputs": [
        {
          "output_type": "stream",
          "name": "stdout",
          "text": [
            "Enter 1st integer: 23.1\n",
            "Enter 2nd integer: 2\n",
            "Sum ➕:  25.1\n",
            "subraction ➖:  21.1\n",
            "multiply ✖ :  46.2\n",
            "Float division ➗ :  11.55\n",
            "Integer division ➗ :  11.0\n",
            "power :  533.61\n"
          ]
        }
      ]
    },
    {
      "cell_type": "code",
      "source": [
        "i=1\n",
        "while i<=1_000: # for making it more readible code we used _ in it but it'll not stop the flow or throw error but will work\n",
        "  print(i)\n",
        "  i+=1\n"
      ],
      "metadata": {
        "colab": {
          "base_uri": "https://localhost:8080/"
        },
        "id": "dp62F04Fs8xq",
        "outputId": "54169124-e418-4081-e4fe-7722e2082c04"
      },
      "execution_count": null,
      "outputs": [
        {
          "output_type": "stream",
          "name": "stdout",
          "text": [
            "1\n",
            "2\n",
            "3\n",
            "4\n",
            "5\n",
            "6\n",
            "7\n",
            "8\n",
            "9\n",
            "10\n",
            "11\n",
            "12\n",
            "13\n",
            "14\n",
            "15\n",
            "16\n",
            "17\n",
            "18\n",
            "19\n",
            "20\n",
            "21\n",
            "22\n",
            "23\n",
            "24\n",
            "25\n",
            "26\n",
            "27\n",
            "28\n",
            "29\n",
            "30\n",
            "31\n",
            "32\n",
            "33\n",
            "34\n",
            "35\n",
            "36\n",
            "37\n",
            "38\n",
            "39\n",
            "40\n",
            "41\n",
            "42\n",
            "43\n",
            "44\n",
            "45\n",
            "46\n",
            "47\n",
            "48\n",
            "49\n",
            "50\n",
            "51\n",
            "52\n",
            "53\n",
            "54\n",
            "55\n",
            "56\n",
            "57\n",
            "58\n",
            "59\n",
            "60\n",
            "61\n",
            "62\n",
            "63\n",
            "64\n",
            "65\n",
            "66\n",
            "67\n",
            "68\n",
            "69\n",
            "70\n",
            "71\n",
            "72\n",
            "73\n",
            "74\n",
            "75\n",
            "76\n",
            "77\n",
            "78\n",
            "79\n",
            "80\n",
            "81\n",
            "82\n",
            "83\n",
            "84\n",
            "85\n",
            "86\n",
            "87\n",
            "88\n",
            "89\n",
            "90\n",
            "91\n",
            "92\n",
            "93\n",
            "94\n",
            "95\n",
            "96\n",
            "97\n",
            "98\n",
            "99\n",
            "100\n",
            "101\n",
            "102\n",
            "103\n",
            "104\n",
            "105\n",
            "106\n",
            "107\n",
            "108\n",
            "109\n",
            "110\n",
            "111\n",
            "112\n",
            "113\n",
            "114\n",
            "115\n",
            "116\n",
            "117\n",
            "118\n",
            "119\n",
            "120\n",
            "121\n",
            "122\n",
            "123\n",
            "124\n",
            "125\n",
            "126\n",
            "127\n",
            "128\n",
            "129\n",
            "130\n",
            "131\n",
            "132\n",
            "133\n",
            "134\n",
            "135\n",
            "136\n",
            "137\n",
            "138\n",
            "139\n",
            "140\n",
            "141\n",
            "142\n",
            "143\n",
            "144\n",
            "145\n",
            "146\n",
            "147\n",
            "148\n",
            "149\n",
            "150\n",
            "151\n",
            "152\n",
            "153\n",
            "154\n",
            "155\n",
            "156\n",
            "157\n",
            "158\n",
            "159\n",
            "160\n",
            "161\n",
            "162\n",
            "163\n",
            "164\n",
            "165\n",
            "166\n",
            "167\n",
            "168\n",
            "169\n",
            "170\n",
            "171\n",
            "172\n",
            "173\n",
            "174\n",
            "175\n",
            "176\n",
            "177\n",
            "178\n",
            "179\n",
            "180\n",
            "181\n",
            "182\n",
            "183\n",
            "184\n",
            "185\n",
            "186\n",
            "187\n",
            "188\n",
            "189\n",
            "190\n",
            "191\n",
            "192\n",
            "193\n",
            "194\n",
            "195\n",
            "196\n",
            "197\n",
            "198\n",
            "199\n",
            "200\n",
            "201\n",
            "202\n",
            "203\n",
            "204\n",
            "205\n",
            "206\n",
            "207\n",
            "208\n",
            "209\n",
            "210\n",
            "211\n",
            "212\n",
            "213\n",
            "214\n",
            "215\n",
            "216\n",
            "217\n",
            "218\n",
            "219\n",
            "220\n",
            "221\n",
            "222\n",
            "223\n",
            "224\n",
            "225\n",
            "226\n",
            "227\n",
            "228\n",
            "229\n",
            "230\n",
            "231\n",
            "232\n",
            "233\n",
            "234\n",
            "235\n",
            "236\n",
            "237\n",
            "238\n",
            "239\n",
            "240\n",
            "241\n",
            "242\n",
            "243\n",
            "244\n",
            "245\n",
            "246\n",
            "247\n",
            "248\n",
            "249\n",
            "250\n",
            "251\n",
            "252\n",
            "253\n",
            "254\n",
            "255\n",
            "256\n",
            "257\n",
            "258\n",
            "259\n",
            "260\n",
            "261\n",
            "262\n",
            "263\n",
            "264\n",
            "265\n",
            "266\n",
            "267\n",
            "268\n",
            "269\n",
            "270\n",
            "271\n",
            "272\n",
            "273\n",
            "274\n",
            "275\n",
            "276\n",
            "277\n",
            "278\n",
            "279\n",
            "280\n",
            "281\n",
            "282\n",
            "283\n",
            "284\n",
            "285\n",
            "286\n",
            "287\n",
            "288\n",
            "289\n",
            "290\n",
            "291\n",
            "292\n",
            "293\n",
            "294\n",
            "295\n",
            "296\n",
            "297\n",
            "298\n",
            "299\n",
            "300\n",
            "301\n",
            "302\n",
            "303\n",
            "304\n",
            "305\n",
            "306\n",
            "307\n",
            "308\n",
            "309\n",
            "310\n",
            "311\n",
            "312\n",
            "313\n",
            "314\n",
            "315\n",
            "316\n",
            "317\n",
            "318\n",
            "319\n",
            "320\n",
            "321\n",
            "322\n",
            "323\n",
            "324\n",
            "325\n",
            "326\n",
            "327\n",
            "328\n",
            "329\n",
            "330\n",
            "331\n",
            "332\n",
            "333\n",
            "334\n",
            "335\n",
            "336\n",
            "337\n",
            "338\n",
            "339\n",
            "340\n",
            "341\n",
            "342\n",
            "343\n",
            "344\n",
            "345\n",
            "346\n",
            "347\n",
            "348\n",
            "349\n",
            "350\n",
            "351\n",
            "352\n",
            "353\n",
            "354\n",
            "355\n",
            "356\n",
            "357\n",
            "358\n",
            "359\n",
            "360\n",
            "361\n",
            "362\n",
            "363\n",
            "364\n",
            "365\n",
            "366\n",
            "367\n",
            "368\n",
            "369\n",
            "370\n",
            "371\n",
            "372\n",
            "373\n",
            "374\n",
            "375\n",
            "376\n",
            "377\n",
            "378\n",
            "379\n",
            "380\n",
            "381\n",
            "382\n",
            "383\n",
            "384\n",
            "385\n",
            "386\n",
            "387\n",
            "388\n",
            "389\n",
            "390\n",
            "391\n",
            "392\n",
            "393\n",
            "394\n",
            "395\n",
            "396\n",
            "397\n",
            "398\n",
            "399\n",
            "400\n",
            "401\n",
            "402\n",
            "403\n",
            "404\n",
            "405\n",
            "406\n",
            "407\n",
            "408\n",
            "409\n",
            "410\n",
            "411\n",
            "412\n",
            "413\n",
            "414\n",
            "415\n",
            "416\n",
            "417\n",
            "418\n",
            "419\n",
            "420\n",
            "421\n",
            "422\n",
            "423\n",
            "424\n",
            "425\n",
            "426\n",
            "427\n",
            "428\n",
            "429\n",
            "430\n",
            "431\n",
            "432\n",
            "433\n",
            "434\n",
            "435\n",
            "436\n",
            "437\n",
            "438\n",
            "439\n",
            "440\n",
            "441\n",
            "442\n",
            "443\n",
            "444\n",
            "445\n",
            "446\n",
            "447\n",
            "448\n",
            "449\n",
            "450\n",
            "451\n",
            "452\n",
            "453\n",
            "454\n",
            "455\n",
            "456\n",
            "457\n",
            "458\n",
            "459\n",
            "460\n",
            "461\n",
            "462\n",
            "463\n",
            "464\n",
            "465\n",
            "466\n",
            "467\n",
            "468\n",
            "469\n",
            "470\n",
            "471\n",
            "472\n",
            "473\n",
            "474\n",
            "475\n",
            "476\n",
            "477\n",
            "478\n",
            "479\n",
            "480\n",
            "481\n",
            "482\n",
            "483\n",
            "484\n",
            "485\n",
            "486\n",
            "487\n",
            "488\n",
            "489\n",
            "490\n",
            "491\n",
            "492\n",
            "493\n",
            "494\n",
            "495\n",
            "496\n",
            "497\n",
            "498\n",
            "499\n",
            "500\n",
            "501\n",
            "502\n",
            "503\n",
            "504\n",
            "505\n",
            "506\n",
            "507\n",
            "508\n",
            "509\n",
            "510\n",
            "511\n",
            "512\n",
            "513\n",
            "514\n",
            "515\n",
            "516\n",
            "517\n",
            "518\n",
            "519\n",
            "520\n",
            "521\n",
            "522\n",
            "523\n",
            "524\n",
            "525\n",
            "526\n",
            "527\n",
            "528\n",
            "529\n",
            "530\n",
            "531\n",
            "532\n",
            "533\n",
            "534\n",
            "535\n",
            "536\n",
            "537\n",
            "538\n",
            "539\n",
            "540\n",
            "541\n",
            "542\n",
            "543\n",
            "544\n",
            "545\n",
            "546\n",
            "547\n",
            "548\n",
            "549\n",
            "550\n",
            "551\n",
            "552\n",
            "553\n",
            "554\n",
            "555\n",
            "556\n",
            "557\n",
            "558\n",
            "559\n",
            "560\n",
            "561\n",
            "562\n",
            "563\n",
            "564\n",
            "565\n",
            "566\n",
            "567\n",
            "568\n",
            "569\n",
            "570\n",
            "571\n",
            "572\n",
            "573\n",
            "574\n",
            "575\n",
            "576\n",
            "577\n",
            "578\n",
            "579\n",
            "580\n",
            "581\n",
            "582\n",
            "583\n",
            "584\n",
            "585\n",
            "586\n",
            "587\n",
            "588\n",
            "589\n",
            "590\n",
            "591\n",
            "592\n",
            "593\n",
            "594\n",
            "595\n",
            "596\n",
            "597\n",
            "598\n",
            "599\n",
            "600\n",
            "601\n",
            "602\n",
            "603\n",
            "604\n",
            "605\n",
            "606\n",
            "607\n",
            "608\n",
            "609\n",
            "610\n",
            "611\n",
            "612\n",
            "613\n",
            "614\n",
            "615\n",
            "616\n",
            "617\n",
            "618\n",
            "619\n",
            "620\n",
            "621\n",
            "622\n",
            "623\n",
            "624\n",
            "625\n",
            "626\n",
            "627\n",
            "628\n",
            "629\n",
            "630\n",
            "631\n",
            "632\n",
            "633\n",
            "634\n",
            "635\n",
            "636\n",
            "637\n",
            "638\n",
            "639\n",
            "640\n",
            "641\n",
            "642\n",
            "643\n",
            "644\n",
            "645\n",
            "646\n",
            "647\n",
            "648\n",
            "649\n",
            "650\n",
            "651\n",
            "652\n",
            "653\n",
            "654\n",
            "655\n",
            "656\n",
            "657\n",
            "658\n",
            "659\n",
            "660\n",
            "661\n",
            "662\n",
            "663\n",
            "664\n",
            "665\n",
            "666\n",
            "667\n",
            "668\n",
            "669\n",
            "670\n",
            "671\n",
            "672\n",
            "673\n",
            "674\n",
            "675\n",
            "676\n",
            "677\n",
            "678\n",
            "679\n",
            "680\n",
            "681\n",
            "682\n",
            "683\n",
            "684\n",
            "685\n",
            "686\n",
            "687\n",
            "688\n",
            "689\n",
            "690\n",
            "691\n",
            "692\n",
            "693\n",
            "694\n",
            "695\n",
            "696\n",
            "697\n",
            "698\n",
            "699\n",
            "700\n",
            "701\n",
            "702\n",
            "703\n",
            "704\n",
            "705\n",
            "706\n",
            "707\n",
            "708\n",
            "709\n",
            "710\n",
            "711\n",
            "712\n",
            "713\n",
            "714\n",
            "715\n",
            "716\n",
            "717\n",
            "718\n",
            "719\n",
            "720\n",
            "721\n",
            "722\n",
            "723\n",
            "724\n",
            "725\n",
            "726\n",
            "727\n",
            "728\n",
            "729\n",
            "730\n",
            "731\n",
            "732\n",
            "733\n",
            "734\n",
            "735\n",
            "736\n",
            "737\n",
            "738\n",
            "739\n",
            "740\n",
            "741\n",
            "742\n",
            "743\n",
            "744\n",
            "745\n",
            "746\n",
            "747\n",
            "748\n",
            "749\n",
            "750\n",
            "751\n",
            "752\n",
            "753\n",
            "754\n",
            "755\n",
            "756\n",
            "757\n",
            "758\n",
            "759\n",
            "760\n",
            "761\n",
            "762\n",
            "763\n",
            "764\n",
            "765\n",
            "766\n",
            "767\n",
            "768\n",
            "769\n",
            "770\n",
            "771\n",
            "772\n",
            "773\n",
            "774\n",
            "775\n",
            "776\n",
            "777\n",
            "778\n",
            "779\n",
            "780\n",
            "781\n",
            "782\n",
            "783\n",
            "784\n",
            "785\n",
            "786\n",
            "787\n",
            "788\n",
            "789\n",
            "790\n",
            "791\n",
            "792\n",
            "793\n",
            "794\n",
            "795\n",
            "796\n",
            "797\n",
            "798\n",
            "799\n",
            "800\n",
            "801\n",
            "802\n",
            "803\n",
            "804\n",
            "805\n",
            "806\n",
            "807\n",
            "808\n",
            "809\n",
            "810\n",
            "811\n",
            "812\n",
            "813\n",
            "814\n",
            "815\n",
            "816\n",
            "817\n",
            "818\n",
            "819\n",
            "820\n",
            "821\n",
            "822\n",
            "823\n",
            "824\n",
            "825\n",
            "826\n",
            "827\n",
            "828\n",
            "829\n",
            "830\n",
            "831\n",
            "832\n",
            "833\n",
            "834\n",
            "835\n",
            "836\n",
            "837\n",
            "838\n",
            "839\n",
            "840\n",
            "841\n",
            "842\n",
            "843\n",
            "844\n",
            "845\n",
            "846\n",
            "847\n",
            "848\n",
            "849\n",
            "850\n",
            "851\n",
            "852\n",
            "853\n",
            "854\n",
            "855\n",
            "856\n",
            "857\n",
            "858\n",
            "859\n",
            "860\n",
            "861\n",
            "862\n",
            "863\n",
            "864\n",
            "865\n",
            "866\n",
            "867\n",
            "868\n",
            "869\n",
            "870\n",
            "871\n",
            "872\n",
            "873\n",
            "874\n",
            "875\n",
            "876\n",
            "877\n",
            "878\n",
            "879\n",
            "880\n",
            "881\n",
            "882\n",
            "883\n",
            "884\n",
            "885\n",
            "886\n",
            "887\n",
            "888\n",
            "889\n",
            "890\n",
            "891\n",
            "892\n",
            "893\n",
            "894\n",
            "895\n",
            "896\n",
            "897\n",
            "898\n",
            "899\n",
            "900\n",
            "901\n",
            "902\n",
            "903\n",
            "904\n",
            "905\n",
            "906\n",
            "907\n",
            "908\n",
            "909\n",
            "910\n",
            "911\n",
            "912\n",
            "913\n",
            "914\n",
            "915\n",
            "916\n",
            "917\n",
            "918\n",
            "919\n",
            "920\n",
            "921\n",
            "922\n",
            "923\n",
            "924\n",
            "925\n",
            "926\n",
            "927\n",
            "928\n",
            "929\n",
            "930\n",
            "931\n",
            "932\n",
            "933\n",
            "934\n",
            "935\n",
            "936\n",
            "937\n",
            "938\n",
            "939\n",
            "940\n",
            "941\n",
            "942\n",
            "943\n",
            "944\n",
            "945\n",
            "946\n",
            "947\n",
            "948\n",
            "949\n",
            "950\n",
            "951\n",
            "952\n",
            "953\n",
            "954\n",
            "955\n",
            "956\n",
            "957\n",
            "958\n",
            "959\n",
            "960\n",
            "961\n",
            "962\n",
            "963\n",
            "964\n",
            "965\n",
            "966\n",
            "967\n",
            "968\n",
            "969\n",
            "970\n",
            "971\n",
            "972\n",
            "973\n",
            "974\n",
            "975\n",
            "976\n",
            "977\n",
            "978\n",
            "979\n",
            "980\n",
            "981\n",
            "982\n",
            "983\n",
            "984\n",
            "985\n",
            "986\n",
            "987\n",
            "988\n",
            "989\n",
            "990\n",
            "991\n",
            "992\n",
            "993\n",
            "994\n",
            "995\n",
            "996\n",
            "997\n",
            "998\n",
            "999\n",
            "1000\n"
          ]
        }
      ]
    },
    {
      "cell_type": "code",
      "source": [
        "i = 1\n",
        "while (i < 10):\n",
        "  print(i * \"*\")\n",
        "  i+=1\n"
      ],
      "metadata": {
        "colab": {
          "base_uri": "https://localhost:8080/"
        },
        "id": "VD3RslZotom2",
        "outputId": "45ff6714-03e9-4b45-f427-568f617c22cd"
      },
      "execution_count": null,
      "outputs": [
        {
          "output_type": "stream",
          "name": "stdout",
          "text": [
            "*\n",
            "**\n",
            "***\n",
            "****\n",
            "*****\n",
            "******\n",
            "*******\n",
            "********\n",
            "*********\n"
          ]
        }
      ]
    },
    {
      "cell_type": "code",
      "source": [
        "# Lists Concept:\n",
        "\n",
        "names = [\"Hanzla\",\"Alvi\",\"Ayesha\",\"Zainab\",\"Taila\",\"Moin\"]\n",
        "print(names) # to print all the elements in the list\n",
        "\n",
        "#to print individually\n",
        "\n",
        "print(names[0])\n",
        "print(names[1])\n",
        "print(names[2])\n",
        "print(names[3])\n",
        "print(names[4])\n",
        "print(names[5])\n",
        "\n",
        "#it'll print the list backword like at -1 index theres \"Moin\" then at -2 its \"Taila\" and so on\n",
        "\n",
        "print(names[-1])\n",
        "print(names[-2])\n",
        "print(names[-3])\n",
        "print(names[-4])\n",
        "print(names[-5])"
      ],
      "metadata": {
        "colab": {
          "base_uri": "https://localhost:8080/"
        },
        "id": "gyBVi2wGtoos",
        "outputId": "a31e6fe6-d50b-4a50-ed79-17bd8406e460"
      },
      "execution_count": null,
      "outputs": [
        {
          "output_type": "stream",
          "name": "stdout",
          "text": [
            "['Hanzla', 'Alvi', 'Ayesha', 'Zainab', 'Taila', 'Moin']\n"
          ]
        }
      ]
    },
    {
      "cell_type": "code",
      "source": [
        "# Lists Concept:\n",
        "\n",
        "names = [\"Hanzla\",\"Alvi\",\"Ayesha\",\"Zainab\",\"Taila\",\"Moin\"]\n",
        "names[1] = \"Mama\"\n",
        "\n",
        "# bhawna mein aa k assignment oerator na use kr lena\n",
        "\n",
        "print(names)\n",
        "\n",
        "print(names[1:4])"
      ],
      "metadata": {
        "colab": {
          "base_uri": "https://localhost:8080/"
        },
        "id": "iNlpW_HetosT",
        "outputId": "4097e67d-14ea-48aa-e3fa-8924d81504ee"
      },
      "execution_count": null,
      "outputs": [
        {
          "output_type": "stream",
          "name": "stdout",
          "text": [
            "['Hanzla', 'Mama', 'Ayesha', 'Zainab', 'Taila', 'Moin']\n",
            "['Mama', 'Ayesha', 'Zainab']\n"
          ]
        }
      ]
    },
    {
      "cell_type": "code",
      "source": [
        "num = {1,2,3,4,5}\n",
        "# to append or add in the list\n",
        "num.add(6)\n",
        "print(num)\n",
        "\n",
        "# to remove an element in the list:\n",
        "num.remove(3)\n",
        "print(num)"
      ],
      "metadata": {
        "colab": {
          "base_uri": "https://localhost:8080/"
        },
        "id": "p3-M13oZyghW",
        "outputId": "13232914-86d2-4c36-8e19-f3c6e27a0f8d"
      },
      "execution_count": null,
      "outputs": [
        {
          "output_type": "stream",
          "name": "stdout",
          "text": [
            "{1, 2, 3, 4, 5, 6}\n",
            "{1, 2, 4, 5, 6}\n"
          ]
        }
      ]
    },
    {
      "cell_type": "code",
      "source": [
        "num =[1,2,3,4,5]\n",
        "num.append(6)\n",
        "num.insert(0,-1)\n",
        "num.insert(1,0)\n",
        "print(num)\n",
        "\n",
        "num.remove(3)\n",
        "print(num)\n",
        "\n",
        "print(3 in num)\n",
        "print(2 in num)\n",
        "\n",
        "# check length of the lists use len()\n",
        "\n",
        "print(len(num))"
      ],
      "metadata": {
        "colab": {
          "base_uri": "https://localhost:8080/"
        },
        "id": "0Db4BAkwygi5",
        "outputId": "e0f6675e-5b43-4af0-87b4-7c682dae295c"
      },
      "execution_count": null,
      "outputs": [
        {
          "output_type": "stream",
          "name": "stdout",
          "text": [
            "[-1, 0, 1, 2, 3, 4, 5, 6]\n",
            "[-1, 0, 1, 2, 4, 5, 6]\n",
            "False\n",
            "True\n",
            "7\n"
          ]
        }
      ]
    },
    {
      "cell_type": "code",
      "source": [
        "num = range(5)\n",
        "print(num)\n",
        "\n",
        "for i in num:\n",
        "  print(i)\n"
      ],
      "metadata": {
        "colab": {
          "base_uri": "https://localhost:8080/"
        },
        "id": "U3zEgMAHyglj",
        "outputId": "c19264e9-81b1-4c46-bb7a-89e58e0b4efd"
      },
      "execution_count": null,
      "outputs": [
        {
          "output_type": "stream",
          "name": "stdout",
          "text": [
            "range(0, 5)\n",
            "0\n",
            "1\n",
            "2\n",
            "3\n",
            "4\n"
          ]
        }
      ]
    },
    {
      "cell_type": "code",
      "source": [
        "# with jump up to 2 or can say skip too\n",
        "nums= range(5, 10, 2)\n",
        "\n",
        "for i in nums:\n",
        "  print(i)"
      ],
      "metadata": {
        "colab": {
          "base_uri": "https://localhost:8080/"
        },
        "id": "5FvtDhV45jLG",
        "outputId": "e2596c95-5a20-4e63-93a5-6ae3e92a68f1"
      },
      "execution_count": null,
      "outputs": [
        {
          "output_type": "stream",
          "name": "stdout",
          "text": [
            "5\n",
            "7\n",
            "9\n"
          ]
        }
      ]
    },
    {
      "cell_type": "code",
      "source": [
        "#with initial with 5 and ending till 10\n",
        "nums = range(5, 10)\n",
        "for i in nums:\n",
        "  print(i)"
      ],
      "metadata": {
        "colab": {
          "base_uri": "https://localhost:8080/"
        },
        "id": "t1SuTksQ5jPl",
        "outputId": "49798513-323e-42ff-ac40-7f9b323602c2"
      },
      "execution_count": null,
      "outputs": [
        {
          "output_type": "stream",
          "name": "stdout",
          "text": [
            "5\n",
            "6\n",
            "7\n",
            "8\n",
            "9\n"
          ]
        }
      ]
    },
    {
      "cell_type": "code",
      "source": [
        "for i in range(10):\n",
        "  print(i)"
      ],
      "metadata": {
        "colab": {
          "base_uri": "https://localhost:8080/"
        },
        "id": "GMMpUkDr5jQ9",
        "outputId": "5b64d746-c195-47bd-b847-e096f467ae90"
      },
      "execution_count": null,
      "outputs": [
        {
          "output_type": "stream",
          "name": "stdout",
          "text": [
            "0\n",
            "1\n",
            "2\n",
            "3\n",
            "4\n",
            "5\n",
            "6\n",
            "7\n",
            "8\n",
            "9\n"
          ]
        }
      ]
    },
    {
      "cell_type": "code",
      "source": [
        "list = [4,2,1]\n",
        "\n",
        "#print(list.append(4))\n",
        "#it will add 4 in the end but will print none if we print like this but if we use below technique it'll print the values\n",
        "\n",
        "list.append(4)\n",
        "print( list)\n"
      ],
      "metadata": {
        "colab": {
          "base_uri": "https://localhost:8080/"
        },
        "id": "eSYcnCBC5jTt",
        "outputId": "3da3f273-6981-4269-f331-c596bda67c29"
      },
      "execution_count": null,
      "outputs": [
        {
          "output_type": "stream",
          "name": "stdout",
          "text": [
            "[4, 2, 1, 4]\n"
          ]
        }
      ]
    },
    {
      "cell_type": "code",
      "source": [
        "#to sort the list:\n",
        "#sort()\n",
        "list = [4,2,1,3]\n",
        "\n",
        "list.sort()\n",
        "print(list)"
      ],
      "metadata": {
        "colab": {
          "base_uri": "https://localhost:8080/"
        },
        "id": "O-Y_xkqhQN4W",
        "outputId": "a3251925-d6d5-49bc-c34d-6da2c66be23b"
      },
      "execution_count": null,
      "outputs": [
        {
          "output_type": "stream",
          "name": "stdout",
          "text": [
            "[1, 2, 3, 4]\n",
            "[4, 3, 2, 1]\n"
          ]
        }
      ]
    },
    {
      "cell_type": "code",
      "source": [
        "#To reverse the list\n",
        "#        reverse() ->\n",
        "\n",
        "list = [4,2,1,3]\n",
        "\n",
        "list.reverse()\n",
        "print(list)"
      ],
      "metadata": {
        "id": "8dmWhLdy5jVL"
      },
      "execution_count": null,
      "outputs": []
    },
    {
      "cell_type": "code",
      "source": [
        "#to sort the list then reverse it we use sort(reverse = Ture)\n",
        "\n",
        "list = [4,1,2,3]\n",
        "\n",
        "list.sort(reverse=True)\n",
        "print(list)"
      ],
      "metadata": {
        "colab": {
          "base_uri": "https://localhost:8080/"
        },
        "id": "ic3Z9ufBygn3",
        "outputId": "e921fc4d-976e-416a-ba2c-6aa57903fea2"
      },
      "execution_count": null,
      "outputs": [
        {
          "output_type": "stream",
          "name": "stdout",
          "text": [
            "[4, 3, 2, 1]\n"
          ]
        }
      ]
    },
    {
      "cell_type": "code",
      "source": [
        "#lists in strings\n",
        "\n",
        "list = [\"Hanzla\", \"Alvi\", \"Ayesha\", \"Madiha\", \"Rida\"]\n",
        "\n",
        "list.sort()\n",
        "print (list)\n",
        "\n",
        "list.reverse()\n",
        "print(list)\n",
        "if (list == list.reverse()):\n",
        "  print(\"True\")\n",
        "else:\n",
        "  print(\"False\")\n"
      ],
      "metadata": {
        "colab": {
          "base_uri": "https://localhost:8080/"
        },
        "id": "spTl_1zM5lnw",
        "outputId": "45379b44-e424-4629-e31f-3c613084e4d4"
      },
      "execution_count": null,
      "outputs": [
        {
          "output_type": "stream",
          "name": "stdout",
          "text": [
            "['Alvi', 'Ayesha', 'Hanzla', 'Madiha', 'Rida']\n",
            "['Rida', 'Madiha', 'Hanzla', 'Ayesha', 'Alvi']\n",
            "False\n"
          ]
        }
      ]
    },
    {
      "cell_type": "code",
      "source": [
        "#Also we can use this too:\n",
        "\n",
        "list = [\"Hanzla\", \"Alvi\", \"Ayesha\", \"Madiha\", \"Rida\"]\n",
        "\n",
        "list.sort(reverse=True)\n",
        "print (list)"
      ],
      "metadata": {
        "colab": {
          "base_uri": "https://localhost:8080/"
        },
        "id": "ZowtyWcuTKEl",
        "outputId": "626cfe45-48b8-472d-ac69-2796974794e1"
      },
      "execution_count": null,
      "outputs": [
        {
          "output_type": "stream",
          "name": "stdout",
          "text": [
            "['Rida', 'Madiha', 'Hanzla', 'Ayesha', 'Alvi']\n"
          ]
        }
      ]
    },
    {
      "cell_type": "code",
      "source": [
        "#To find max() and min()\n",
        "list = [1, 2, 3, 4]\n",
        "\n",
        "print(max(list))\n",
        "print(min(list))"
      ],
      "metadata": {
        "colab": {
          "base_uri": "https://localhost:8080/"
        },
        "id": "5BOGCk4KTKHD",
        "outputId": "6c808b51-bcd6-44d7-f6a5-303a620d7c2a"
      },
      "execution_count": null,
      "outputs": [
        {
          "output_type": "stream",
          "name": "stdout",
          "text": [
            "4\n",
            "1\n"
          ]
        }
      ]
    },
    {
      "cell_type": "code",
      "source": [
        "list = [1, 2, 3, 4]\n",
        "\n",
        "print(sum(list))"
      ],
      "metadata": {
        "colab": {
          "base_uri": "https://localhost:8080/"
        },
        "id": "_ynei1afTKJj",
        "outputId": "ede0a04e-5ed8-4460-e37f-e70aff4cad1e"
      },
      "execution_count": null,
      "outputs": [
        {
          "output_type": "stream",
          "name": "stdout",
          "text": [
            "10\n"
          ]
        }
      ]
    },
    {
      "cell_type": "code",
      "source": [
        "list = [1, 2, 3, 4]\n",
        "list.insert(1,5)\n",
        "print(list)"
      ],
      "metadata": {
        "colab": {
          "base_uri": "https://localhost:8080/"
        },
        "id": "KAaobNMsTKMJ",
        "outputId": "09a72455-ac80-4fc9-f10a-71e7e358e63c"
      },
      "execution_count": null,
      "outputs": [
        {
          "output_type": "stream",
          "name": "stdout",
          "text": [
            "[1, 5, 2, 3, 4]\n"
          ]
        }
      ]
    },
    {
      "cell_type": "code",
      "source": [
        "list = [\"Hanzla\", \"Ayesha\", \"Rida\"]\n",
        "print(sum(list))\n",
        "\n",
        "#I thought it'll concatinate it\n",
        "#but it throw error just now!!!"
      ],
      "metadata": {
        "colab": {
          "base_uri": "https://localhost:8080/",
          "height": 165
        },
        "id": "T6QDaqXLU5El",
        "outputId": "d940963c-3bbf-4cea-ef4f-eda1fde45d24"
      },
      "execution_count": null,
      "outputs": [
        {
          "output_type": "error",
          "ename": "TypeError",
          "evalue": "unsupported operand type(s) for +: 'int' and 'str'",
          "traceback": [
            "\u001b[0;31m---------------------------------------------------------------------------\u001b[0m",
            "\u001b[0;31mTypeError\u001b[0m                                 Traceback (most recent call last)",
            "\u001b[0;32m<ipython-input-19-bbf02696ccce>\u001b[0m in \u001b[0;36m<cell line: 2>\u001b[0;34m()\u001b[0m\n\u001b[1;32m      1\u001b[0m \u001b[0mlist\u001b[0m \u001b[0;34m=\u001b[0m \u001b[0;34m[\u001b[0m\u001b[0;34m\"Hanzla\"\u001b[0m\u001b[0;34m,\u001b[0m \u001b[0;34m\"Ayesha\"\u001b[0m\u001b[0;34m,\u001b[0m \u001b[0;34m\"Rida\"\u001b[0m\u001b[0;34m]\u001b[0m\u001b[0;34m\u001b[0m\u001b[0;34m\u001b[0m\u001b[0m\n\u001b[0;32m----> 2\u001b[0;31m \u001b[0mprint\u001b[0m\u001b[0;34m(\u001b[0m\u001b[0msum\u001b[0m\u001b[0;34m(\u001b[0m\u001b[0mlist\u001b[0m\u001b[0;34m)\u001b[0m\u001b[0;34m)\u001b[0m\u001b[0;34m\u001b[0m\u001b[0;34m\u001b[0m\u001b[0m\n\u001b[0m",
            "\u001b[0;31mTypeError\u001b[0m: unsupported operand type(s) for +: 'int' and 'str'"
          ]
        }
      ]
    },
    {
      "cell_type": "code",
      "source": [
        "list = [4, 2, 1, 1]\n",
        "list.remove(1)\n",
        "print(list)"
      ],
      "metadata": {
        "colab": {
          "base_uri": "https://localhost:8080/"
        },
        "id": "LsrTTy9cU5G_",
        "outputId": "3a340ccc-704c-425a-ce9b-2006b110ab5b"
      },
      "execution_count": null,
      "outputs": [
        {
          "output_type": "stream",
          "name": "stdout",
          "text": [
            "[4, 2, 1]\n"
          ]
        }
      ]
    },
    {
      "cell_type": "code",
      "source": [
        "list = [4, 2, 1, 1]\n",
        "list.pop(3)\n",
        "print(list)"
      ],
      "metadata": {
        "colab": {
          "base_uri": "https://localhost:8080/"
        },
        "id": "KmfanOOKU5if",
        "outputId": "d50d86e9-7f2f-47f7-a2db-42b2082781ed"
      },
      "execution_count": null,
      "outputs": [
        {
          "output_type": "stream",
          "name": "stdout",
          "text": [
            "[4, 2, 1]\n"
          ]
        }
      ]
    },
    {
      "cell_type": "code",
      "source": [
        "tuple = (3,1,2,1)\n",
        "print(type(tuple))\n",
        "tuple.count(1)\n",
        "print(tuple)"
      ],
      "metadata": {
        "colab": {
          "base_uri": "https://localhost:8080/"
        },
        "id": "0BpULP37U5ox",
        "outputId": "0ec93e73-7f62-470d-f83b-0c12ca166a12"
      },
      "execution_count": null,
      "outputs": [
        {
          "output_type": "stream",
          "name": "stdout",
          "text": [
            "<class 'tuple'>\n",
            "(3, 1, 2, 1)\n"
          ]
        }
      ]
    },
    {
      "cell_type": "code",
      "source": [
        "red=int(input(\"Enter the number(greater than 0): \"))\n",
        "green=int(input(\"Enter the number: \"))\n",
        "blue=int(input(\"Enter the number(less than 100): \"))\n",
        "\n",
        "color=input(\"Enter the Color (Red,Green ,or Blue): \")\n",
        "if (color == \"Red\") :\n",
        "    if (green<blue):\n",
        "        print(green)\n",
        "    else:\n",
        "        print(blue)\n",
        "\n",
        "elif (color == \"Green\"):\n",
        "    if (red<blue):\n",
        "        print(red)\n",
        "    else:\n",
        "        print(blue)\n",
        "\n",
        "elif (color == \"Blue\"):\n",
        "    if (red<green):\n",
        "        print(red)\n",
        "    else:\n",
        "        print(green)\n",
        "\n",
        "else :\n",
        "    print(\"Incorrect Data!!!\")\n"
      ],
      "metadata": {
        "colab": {
          "base_uri": "https://localhost:8080/"
        },
        "id": "Y7S1_FVXVjuD",
        "outputId": "d12089b0-5bf9-4a6d-8f10-717be346e1d4"
      },
      "execution_count": null,
      "outputs": [
        {
          "name": "stdout",
          "output_type": "stream",
          "text": [
            "Enter the number(greater than 0): 10\n"
          ]
        }
      ]
    },
    {
      "cell_type": "code",
      "source": [],
      "metadata": {
        "id": "muXMGLrUVjvw"
      },
      "execution_count": null,
      "outputs": []
    },
    {
      "cell_type": "code",
      "source": [
        "#WAP ask the user to eter 3 favourite movies and Store them in the list\n",
        "\n",
        "movie1, movie2, movie3  = map(str, input(\"Enter your favourite movie: \").split())\n",
        "list = [movie1, movie2, movie3]\n",
        "print(list)\n"
      ],
      "metadata": {
        "colab": {
          "base_uri": "https://localhost:8080/"
        },
        "id": "VHFVvgG0U5rH",
        "outputId": "ae7276b7-3f39-4666-9a36-3e1f8f781c0a"
      },
      "execution_count": null,
      "outputs": [
        {
          "output_type": "stream",
          "name": "stdout",
          "text": [
            "Enter your favourite movie: Aveger Soap Sultan\n",
            "['Aveger', 'Soap', 'Sultan']\n",
            "\n"
          ]
        }
      ]
    },
    {
      "cell_type": "code",
      "source": [
        "#WAP ask the user to eter 3 favourite movies and Store them in the list\n",
        "list = []\n",
        "for i in range(3):\n",
        "  movie = input(\"Enter Your Favourite movie: \")\n",
        "  list.append(movie)\n",
        "print (list)"
      ],
      "metadata": {
        "colab": {
          "base_uri": "https://localhost:8080/"
        },
        "id": "ev9YnwdlU5tp",
        "outputId": "6ca667de-2499-480a-a1d4-501e16a12e36"
      },
      "execution_count": null,
      "outputs": [
        {
          "output_type": "stream",
          "name": "stdout",
          "text": [
            "Enter Your Favourite movie: Sultan\n",
            "Enter Your Favourite movie: Singh\n",
            "Enter Your Favourite movie: Samrath\n",
            "['Sultan', 'Singh', 'Samrath']\n"
          ]
        }
      ]
    },
    {
      "cell_type": "code",
      "source": [
        "#WAP to check if the list contain a palidrome of number or not\n",
        "\n",
        "\n",
        "list = []\n",
        "n = int(input(\"Enter the range of the list: \"))\n",
        "for i in range(n):\n",
        "  number = input(\"Enter the Data: \")\n",
        "  list.append(number)\n",
        "print(list)\n",
        "for num in list:\n",
        "  if num == num[::-1]:\n",
        "    print(\"Number is palindrome!\")\n",
        "  else:\n",
        "    print(\"Number is not palindrome!\")\n"
      ],
      "metadata": {
        "id": "EavcdMNrU5v7"
      },
      "execution_count": null,
      "outputs": []
    },
    {
      "cell_type": "code",
      "source": [
        "#del list\n",
        "listt = []\n",
        "n = int(input(\"Enter the range of the list: \"))\n",
        "for i in range(n):\n",
        "  number = input(\"Enter the Data: \")\n",
        "  listt.append(number)\n",
        "print(listt)\n",
        "for num in listt:\n",
        "  num = list(num)\n",
        "  print(num)\n",
        "  num1 = list(reversed(num))\n",
        "  #print(num1)\n",
        "  if num == num1:\n",
        "    print(\"Number is palindrome! \")\n",
        "  else:\n",
        "    print(\"Number is not palindrome! \")"
      ],
      "metadata": {
        "colab": {
          "base_uri": "https://localhost:8080/"
        },
        "id": "JI9iyXcuU5yp",
        "outputId": "7d5d9e84-f70e-49d5-9141-2b0fdeea8054"
      },
      "execution_count": null,
      "outputs": [
        {
          "output_type": "stream",
          "name": "stdout",
          "text": [
            "Enter the range of the list: 2\n",
            "Enter the Data: 121\n",
            "Enter the Data: abc\n",
            "['121', 'abc']\n",
            "['1', '2', '1']\n",
            "Number is palindrome! \n",
            "['a', 'b', 'c']\n",
            "Number is not palindrome! \n"
          ]
        }
      ]
    },
    {
      "cell_type": "code",
      "source": [
        "#WAP to count the number of students with the “A” grade in the following tuple.\n",
        "grade = input().split()\n",
        "print (grade)\n",
        "count = 0\n",
        "for i in grade:\n",
        "  if i == \"A\":\n",
        "    count+=1\n",
        "print(count)"
      ],
      "metadata": {
        "colab": {
          "base_uri": "https://localhost:8080/"
        },
        "id": "TeHw4f8iguxH",
        "outputId": "ffa1b8d3-7413-4f06-d574-4e35059181a8"
      },
      "execution_count": null,
      "outputs": [
        {
          "output_type": "stream",
          "name": "stdout",
          "text": [
            "A B A C\n",
            "['A', 'B', 'A', 'C']\n",
            "2\n"
          ]
        }
      ]
    },
    {
      "cell_type": "code",
      "source": [
        "print(grade)\n",
        "print(grade.sort())"
      ],
      "metadata": {
        "colab": {
          "base_uri": "https://localhost:8080/",
          "height": 176
        },
        "id": "WIteUKS4l8V-",
        "outputId": "f09f8416-7990-40df-fa75-712ecdc3d2b0"
      },
      "execution_count": null,
      "outputs": [
        {
          "output_type": "stream",
          "name": "stdout",
          "text": [
            "['A', 'A', 'B', 'C']\n"
          ]
        },
        {
          "output_type": "error",
          "ename": "TypeError",
          "evalue": "sort() takes no positional arguments",
          "traceback": [
            "\u001b[0;31m---------------------------------------------------------------------------\u001b[0m",
            "\u001b[0;31mTypeError\u001b[0m                                 Traceback (most recent call last)",
            "\u001b[0;32m<ipython-input-38-8f63b5c10327>\u001b[0m in \u001b[0;36m<cell line: 2>\u001b[0;34m()\u001b[0m\n\u001b[1;32m      1\u001b[0m \u001b[0mprint\u001b[0m\u001b[0;34m(\u001b[0m\u001b[0mgrade\u001b[0m\u001b[0;34m)\u001b[0m\u001b[0;34m\u001b[0m\u001b[0;34m\u001b[0m\u001b[0m\n\u001b[0;32m----> 2\u001b[0;31m \u001b[0mprint\u001b[0m\u001b[0;34m(\u001b[0m\u001b[0mgrade\u001b[0m\u001b[0;34m.\u001b[0m\u001b[0msort\u001b[0m\u001b[0;34m(\u001b[0m\u001b[0mgrade\u001b[0m\u001b[0;34m)\u001b[0m\u001b[0;34m)\u001b[0m\u001b[0;34m\u001b[0m\u001b[0;34m\u001b[0m\u001b[0m\n\u001b[0m",
            "\u001b[0;31mTypeError\u001b[0m: sort() takes no positional arguments"
          ]
        }
      ]
    },
    {
      "cell_type": "code",
      "source": [
        "a, b = map(int, input().split())\n",
        "d = abs(b-a)\n",
        "\n",
        "if x = a + 2(d) :\n",
        "  count+=1\n",
        "elif x ="
      ],
      "metadata": {
        "colab": {
          "base_uri": "https://localhost:8080/"
        },
        "id": "nT4xywKPFtDS",
        "outputId": "14ecd167-b643-44b5-c2d8-d52d5ef3f579"
      },
      "execution_count": null,
      "outputs": [
        {
          "output_type": "stream",
          "name": "stdout",
          "text": [
            "Enter A: 5\n",
            "Enter B: 7\n",
            "3\n"
          ]
        }
      ]
    },
    {
      "cell_type": "code",
      "source": [
        "#\n",
        "num = list(str(121))\n",
        "print(num)\n",
        "\n",
        "num1 =list(str(input(\"Enter the Data: \")))\n",
        "print(num1)\n"
      ],
      "metadata": {
        "colab": {
          "base_uri": "https://localhost:8080/"
        },
        "id": "LkTcD37foMRt",
        "outputId": "fdc3cb6e-e6f4-47c0-96da-e39016c90ce0"
      },
      "execution_count": null,
      "outputs": [
        {
          "name": "stdout",
          "output_type": "stream",
          "text": [
            "['1', '2', '1']\n",
            "Enter the Data: 121\n",
            "['1', '2', '1']\n",
            "12\n"
          ]
        }
      ]
    },
    {
      "cell_type": "markdown",
      "source": [],
      "metadata": {
        "id": "iWfe7cfLl3cZ"
      }
    },
    {
      "cell_type": "code",
      "source": [
        "number = list(str(121))\n",
        "print(number)"
      ],
      "metadata": {
        "id": "sVlVCaXkakhn",
        "colab": {
          "base_uri": "https://localhost:8080/"
        },
        "outputId": "dca6a960-8268-48c2-b6f4-574b017e9083"
      },
      "execution_count": null,
      "outputs": [
        {
          "output_type": "stream",
          "name": "stdout",
          "text": [
            "['1', '2', '1']\n"
          ]
        }
      ]
    },
    {
      "cell_type": "code",
      "source": [
        "number=list(input().split('.'))\n",
        "print(number[-1])"
      ],
      "metadata": {
        "id": "jh3pqGuVoMUt",
        "colab": {
          "base_uri": "https://localhost:8080/"
        },
        "outputId": "c831da82-590a-4f9c-d7ba-1eac9ef494dd"
      },
      "execution_count": null,
      "outputs": [
        {
          "output_type": "stream",
          "name": "stdout",
          "text": [
            "mnsdc.jcas.ascb\n",
            "ascb\n"
          ]
        }
      ]
    },
    {
      "cell_type": "code",
      "source": [
        "\n",
        "list = []\n",
        "n = int(input(\"Enter the range of the list: \"))\n",
        "for i in range(n):\n",
        "  number = input(\"Enter the Data: \")\n",
        "  list.append(number)\n",
        "print(list)\n",
        "for i in range(n):\n",
        "  if list[i] == list[i][::-1]:\n",
        "    print(list[i],\" is a palindrome!\")\n",
        "  else:\n",
        "    print(list[i],\" is not a palindrome!\")\n"
      ],
      "metadata": {
        "colab": {
          "base_uri": "https://localhost:8080/"
        },
        "id": "VHjXVaSvU52C",
        "outputId": "22449e56-f25e-49cb-fd3a-3349fbbba5d7"
      },
      "execution_count": null,
      "outputs": [
        {
          "output_type": "stream",
          "name": "stdout",
          "text": [
            "Enter the range of the list: 3\n",
            "Enter the Data: 121\n",
            "Enter the Data: 123\n",
            "Enter the Data: 12\n",
            "['121', '123', '12']\n",
            "121  is a palindrome!\n",
            "123  is not a palindrome!\n",
            "12  is not a palindrome!\n"
          ]
        }
      ]
    }
  ]
}